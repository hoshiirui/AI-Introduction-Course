{
  "nbformat": 4,
  "nbformat_minor": 0,
  "metadata": {
    "colab": {
      "provenance": []
    },
    "kernelspec": {
      "name": "python3",
      "display_name": "Python 3"
    },
    "language_info": {
      "name": "python"
    }
  },
  "cells": [
    {
      "cell_type": "code",
      "source": [
        "#mine ver\n",
        "\n",
        "#class untuk inisiasi node\n",
        "#terdapat boat, wolf, sheep, dan cabbange serta parent untuk mengetahui node sebelumnya yang dilalui\n",
        "class Node:\n",
        "    def __init__(self, boat, wolf, sheep, cabbage, parent=None):\n",
        "        self.boat = boat\n",
        "        self.wolf = wolf\n",
        "        self.sheep = sheep\n",
        "        self.cabbage = cabbage\n",
        "        self.parent = parent\n",
        "    \n",
        "    #agar saat print class ini yang ditampilkan\n",
        "    def __str__(self):\n",
        "        return f\"boat: {self.boat}, Wolf: {self.wolf}, Sheep: {self.sheep}, Cabbage: {self.cabbage}\"\n",
        "\n",
        "#fungsi untuk pengecekan state valid dan invalid\n",
        "def valid_state(boat, wolf, sheep, cabbage):\n",
        "    if wolf == sheep and boat != wolf:\n",
        "        return False\n",
        "    if sheep == cabbage and boat != sheep:\n",
        "        return False\n",
        "    return True\n",
        "\n",
        "#fungsi untuk generate kemungkinan next state dari tree\n",
        "def generate_child(node):\n",
        "    boat = node.boat\n",
        "    wolf = node.wolf\n",
        "    sheep = node.sheep\n",
        "    cabbage = node.cabbage\n",
        "    if boat == \"left\":\n",
        "        child = [\n",
        "            Node(\"right\", wolf, sheep, cabbage, node) if valid_state(\"right\", wolf, sheep, cabbage) else None, #boat ke right sendiri\n",
        "            Node(\"right\", \"right\", sheep, cabbage, node) if valid_state(\"right\", \"right\", sheep, cabbage) else None, #boat ke right dengan wolf\n",
        "            Node(\"right\", wolf, \"right\", cabbage, node) if valid_state(\"right\", wolf, \"right\", cabbage) else None, #boat ke right dengan sheep\n",
        "            Node(\"right\", wolf, sheep, \"right\", node) if valid_state(\"right\", wolf, sheep, \"right\") else None #boat ke right dengan cabbage\n",
        "        ]\n",
        "    else:\n",
        "        child = [\n",
        "            Node(\"left\", wolf, sheep, cabbage, node) if valid_state(\"left\", wolf, sheep, cabbage) else None, #boat ke left sendiri\n",
        "            Node(\"left\", \"left\", sheep, cabbage, node) if valid_state(\"left\", \"left\", sheep, cabbage) else None, #boat ke left dengan wolf\n",
        "            Node(\"left\", wolf, \"left\", cabbage, node) if valid_state(\"left\", wolf, \"left\", cabbage) else None, #boat ke left dengan sheep\n",
        "            Node(\"left\", wolf, sheep, \"left\", node) if valid_state(\"left\", wolf, sheep, \"left\") else None #boat ke left dengan cabbage\n",
        "        ]\n",
        "    return [x for x in child if x is not None] #ambil state yang valid saja\n",
        "\n",
        "#algoritma bfs\n",
        "def breadth_first_search(initial_state):\n",
        "    queue = [initial_state]\n",
        "    visited = set([initial_state])\n",
        "    \n",
        "    while queue:\n",
        "        node = queue.pop(0)\n",
        "        #ketika program telah mencapai final state (\"right\", \"right\", \"right\", \"right\")\n",
        "        if node.boat == \"right\" and node.wolf == \"right\" and node.sheep == \"right\" and node.cabbage == \"right\":\n",
        "            path = [] #langkah yang dibutuhkan\n",
        "            while node.parent is not None: #ketika ada parentnya, maka append node (child) nya\n",
        "                path.append(node)\n",
        "                node = node.parent\n",
        "            path.append(node)\n",
        "            path.reverse() #balik list karena ditelusuri dari belakang agar menjadi berurutan\n",
        "            return path\n",
        "        for child in generate_child(node):\n",
        "            if child not in visited:\n",
        "                visited.add(child)\n",
        "                queue.append(child)\n",
        "    \n",
        "    return []\n",
        "\n",
        "\n",
        "initial_state = Node(\"left\", \"left\", \"left\", \"left\")\n",
        "path = breadth_first_search(initial_state)\n",
        "if path:\n",
        "    for node in path:\n",
        "        print(node)\n",
        "else:\n",
        "    print(\"Tidak ada solusi\")\n",
        "\n"
      ],
      "metadata": {
        "colab": {
          "base_uri": "https://localhost:8080/"
        },
        "id": "J4BnkDi-IA9B",
        "outputId": "d7e85768-b76b-45bc-d925-b5d9b48f4a62"
      },
      "execution_count": null,
      "outputs": [
        {
          "output_type": "stream",
          "name": "stdout",
          "text": [
            "boat: left, Wolf: left, Sheep: left, Cabbage: left\n",
            "boat: right, Wolf: left, Sheep: right, Cabbage: left\n",
            "boat: left, Wolf: left, Sheep: right, Cabbage: left\n",
            "boat: right, Wolf: right, Sheep: right, Cabbage: left\n",
            "boat: left, Wolf: right, Sheep: left, Cabbage: left\n",
            "boat: right, Wolf: right, Sheep: left, Cabbage: right\n",
            "boat: left, Wolf: right, Sheep: left, Cabbage: right\n",
            "boat: right, Wolf: right, Sheep: right, Cabbage: right\n"
          ]
        }
      ]
    }
  ]
}